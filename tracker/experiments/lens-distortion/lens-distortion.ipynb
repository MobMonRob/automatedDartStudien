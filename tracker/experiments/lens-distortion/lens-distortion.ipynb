{
 "cells": [
  {
   "cell_type": "code",
   "execution_count": 23,
   "metadata": {},
   "outputs": [],
   "source": [
    "import cv2\n",
    "import numpy as np\n",
    "import glob\n",
    "\n",
    "from matplotlib import pyplot as plt\n",
    "\n",
    "images = glob.glob(\"./images/checkerboard_*.jpeg\")"
   ]
  },
  {
   "cell_type": "code",
   "execution_count": 20,
   "metadata": {},
   "outputs": [],
   "source": [
    "CHECKERBOARD = (7, 9)\n",
    "SQUARE_SIZE = 20.0\n",
    "\n",
    "objp = np.zeros((CHECKERBOARD[0] * CHECKERBOARD[1], 3), np.float32)\n",
    "objp[:, :2] = np.mgrid[0:CHECKERBOARD[1], 0:CHECKERBOARD[0]].T.reshape(-1, 2)\n",
    "objp *= SQUARE_SIZE  # Scale by square size\n",
    "\n",
    "objpoints = []\n",
    "imgpoints = []"
   ]
  },
  {
   "cell_type": "code",
   "execution_count": 24,
   "metadata": {},
   "outputs": [],
   "source": [
    "for fname in images:\n",
    "  img = cv2.imread(fname)\n",
    "  gray = cv2.cvtColor(img, cv2.COLOR_BGR2GRAY)\n",
    "\n",
    "  ret, corners = cv2.findChessboardCorners(gray, CHECKERBOARD, None)\n",
    "\n",
    "  if ret:\n",
    "    corners2 = cv2.cornerSubPix(gray, corners, (11, 11), (-1, -1),\n",
    "                                criteria=(cv2.TERM_CRITERIA_EPS + cv2.TERM_CRITERIA_MAX_ITER, 30, 0.001))\n",
    "    objpoints.append(objp)\n",
    "    imgpoints.append(corners2)"
   ]
  },
  {
   "cell_type": "code",
   "execution_count": 25,
   "metadata": {},
   "outputs": [
    {
     "name": "stdout",
     "output_type": "stream",
     "text": [
      "Camera Matrix:\n",
      " [[2.04532327e+04 0.00000000e+00 1.10333294e+03]\n",
      " [0.00000000e+00 4.35103853e+04 8.49312455e+02]\n",
      " [0.00000000e+00 0.00000000e+00 1.00000000e+00]]\n",
      "Distortion Coefficients:\n",
      " [ 2.51531286e+02 -8.19915732e+04  1.62496176e+00  1.42073915e+00\n",
      " -2.71497746e+02]\n"
     ]
    }
   ],
   "source": [
    "ret, camera_matrix, dist_coeffs, rvecs, tvecs = cv2.calibrateCamera(objpoints, imgpoints, gray.shape[::-1], None, None)\n",
    "print(\"Camera Matrix:\\n\", camera_matrix)\n",
    "print(\"Distortion Coefficients:\\n\", dist_coeffs.ravel())"
   ]
  }
 ],
 "metadata": {
  "kernelspec": {
   "display_name": "venv",
   "language": "python",
   "name": "python3"
  },
  "language_info": {
   "codemirror_mode": {
    "name": "ipython",
    "version": 3
   },
   "file_extension": ".py",
   "mimetype": "text/x-python",
   "name": "python",
   "nbconvert_exporter": "python",
   "pygments_lexer": "ipython3",
   "version": "3.11.2"
  }
 },
 "nbformat": 4,
 "nbformat_minor": 2
}
