{
 "cells": [
  {
   "cell_type": "code",
   "execution_count": 2,
   "metadata": {},
   "outputs": [],
   "source": [
    "import cv2\n",
    "import numpy as np\n",
    "import glob\n",
    "\n",
    "from matplotlib import pyplot as plt\n",
    "\n",
    "images = glob.glob(\"./images/checkerboard_*.jpeg\")"
   ]
  },
  {
   "cell_type": "code",
   "execution_count": 19,
   "metadata": {},
   "outputs": [],
   "source": [
    "CHECKERBOARD = (7, 9)\n",
    "SQUARE_SIZE = 20.0\n",
    "\n",
    "objp = np.zeros((CHECKERBOARD[0] * CHECKERBOARD[1], 3), np.float32)\n",
    "objp[:, :2] = np.mgrid[0:CHECKERBOARD[1], 0:CHECKERBOARD[0]].T.reshape(-1, 2)\n",
    "objp *= SQUARE_SIZE  # Scale by square size\n",
    "\n",
    "objpoints = []\n",
    "imgpoints = []\n",
    "\n",
    "focal_length = 2.1\n",
    "pixel_size = 0.003\n",
    "\n",
    "camera_matrix_initial = np.array(\n",
    "  [\n",
    "    [focal_length, 0, 640],\n",
    "    [0, focal_length, 360],\n",
    "    [0, 0, 1]\n",
    "  ], dtype=np.float32\n",
    ")"
   ]
  },
  {
   "cell_type": "code",
   "execution_count": 20,
   "metadata": {},
   "outputs": [],
   "source": [
    "for fname in images:\n",
    "  img = cv2.imread(fname)\n",
    "  gray = cv2.cvtColor(img, cv2.COLOR_BGR2GRAY)\n",
    "\n",
    "  ret, corners = cv2.findChessboardCorners(gray, CHECKERBOARD, None)\n",
    "\n",
    "  if ret:\n",
    "    corners2 = cv2.cornerSubPix(gray, corners, (11, 11), (-1, -1),\n",
    "                                criteria=(cv2.TERM_CRITERIA_EPS + cv2.TERM_CRITERIA_MAX_ITER, 30, 0.001))\n",
    "    objpoints.append(objp)\n",
    "    imgpoints.append(corners2)\n",
    "\n",
    "    cv2.drawChessboardCorners(img, (11, 11), corners2, ret)\n",
    "    # plt.imshow(img)\n",
    "    # plt.show()\n",
    "  else:\n",
    "    print(fname)\n"
   ]
  },
  {
   "cell_type": "code",
   "execution_count": 21,
   "metadata": {},
   "outputs": [
    {
     "name": "stdout",
     "output_type": "stream",
     "text": [
      "Camera Matrix:\n",
      " [[  2.0999999   0.        640.       ]\n",
      " [  0.          2.0999999 360.       ]\n",
      " [  0.          0.          1.       ]]\n",
      "Distortion Coefficients:\n",
      " [ 1.40017137e-14  2.14617695e-10 -1.38004061e-16  2.35596742e-16\n",
      " -6.64757209e-15]\n"
     ]
    }
   ],
   "source": [
    "ret, camera_matrix, dist_coeffs, rvecs, tvecs = cv2.calibrateCamera(objpoints, imgpoints, gray.shape[::-1], camera_matrix_initial, None, flags=cv2.CALIB_USE_INTRINSIC_GUESS)\n",
    "print(\"Camera Matrix:\\n\", camera_matrix)\n",
    "print(\"Distortion Coefficients:\\n\", dist_coeffs.ravel())"
   ]
  }
 ],
 "metadata": {
  "kernelspec": {
   "display_name": "venv",
   "language": "python",
   "name": "python3"
  },
  "language_info": {
   "codemirror_mode": {
    "name": "ipython",
    "version": 3
   },
   "file_extension": ".py",
   "mimetype": "text/x-python",
   "name": "python",
   "nbconvert_exporter": "python",
   "pygments_lexer": "ipython3",
   "version": "3.11.2"
  }
 },
 "nbformat": 4,
 "nbformat_minor": 2
}
