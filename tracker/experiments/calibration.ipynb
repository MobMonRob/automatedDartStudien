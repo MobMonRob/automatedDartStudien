{
 "cells": [
  {
   "cell_type": "code",
   "execution_count": 18,
   "metadata": {},
   "outputs": [],
   "source": [
    "import numpy as np\n",
    "import cv2"
   ]
  },
  {
   "cell_type": "code",
   "execution_count": 27,
   "metadata": {},
   "outputs": [],
   "source": [
    "imagePoints = np.array([\n",
    "    (853, 644),\n",
    "    (252, 435),\n",
    "    (768, 452),\n",
    "    (563, 651)\n",
    "], dtype=np.float32)\n",
    "worldPoints = np.array([\n",
    "    [0,1,0],\n",
    "    [0,-1,0],\n",
    "    [-0.6294,0,0],\n",
    "    [0.5986,0.1945,0]\n",
    "], dtype=np.float32)\n",
    "\n",
    "WIDTH = 1280\n",
    "HEIGHT = 720\n",
    "\n",
    "focal_length = 2.1\n",
    "#focal_length = 3.6651 # calculated from sensor width and fov\n",
    "principal_point = (WIDTH//2, HEIGHT//2)\n",
    "\n",
    "camera_matrix = np.array([\n",
    "    [focal_length/0.003, 0, 640],\n",
    "        [0, focal_length/0.003, 360],\n",
    "        [0, 0, 1]\n",
    "    ], dtype=np.float32)\n",
    "\n",
    "dist_coeffs = np.array([1.40017137e-14, 2.14617695e-10, -1.38004061e-16, 2.35596742e-16, -6.64757209e-15], dtype=np.float32)\n"
   ]
  },
  {
   "cell_type": "code",
   "execution_count": 28,
   "metadata": {},
   "outputs": [
    {
     "name": "stdout",
     "output_type": "stream",
     "text": [
      "Rotation Vector:\n",
      " [[-1.19502314]\n",
      " [-2.33470515]\n",
      " [-0.97997799]]\n",
      "Translation Vector:\n",
      " [[-0.06891478]\n",
      " [ 0.57787268]\n",
      " [ 2.0068106 ]]\n",
      "Rotation Matrix:\n",
      " [[-0.58837329  0.80851857  0.01070471]\n",
      " [ 0.57393726  0.40826571  0.7098698 ]\n",
      " [ 0.56957255  0.42381226 -0.70425158]]\n",
      "Camera Pose:\n",
      " [[-0.58837329  0.57393726  0.56957255 -1.5152345 ]\n",
      " [ 0.80851857  0.40826571  0.42381226 -1.03071766]\n",
      " [ 0.01070471  0.7098698  -0.70425158  1.00382288]\n",
      " [ 0.          0.          0.          1.        ]]\n",
      "852.9999935627342 643.9999914169267\n",
      "252.00000643735962 435.0000007450269\n",
      "767.9999986289616 451.9999986887364\n",
      "563.9973642783498 648.2852584530273\n",
      "Original Image Points:\n",
      " [[853. 644.]\n",
      " [252. 435.]\n",
      " [768. 452.]\n",
      " [563. 651.]]\n"
     ]
    }
   ],
   "source": [
    "success, rotation_vector, translation_vector, _ = cv2.solvePnPRansac(worldPoints, imagePoints, camera_matrix, dist_coeffs)#, flags=cv2.SOLVEPNP_SQPNP)\n",
    "# PnP rechnet die die Transformation von Weltkoordinaten in Kamerakoordinaten aus\n",
    "print(\"Rotation Vector:\\n {0}\".format(rotation_vector))\n",
    "print(\"Translation Vector:\\n {0}\".format(translation_vector))\n",
    "\n",
    "rotM = cv2.Rodrigues(rotation_vector)[0]\n",
    "print(\"Rotation Matrix:\\n {0}\".format(rotM))\n",
    "\n",
    "projMatrix = np.hstack((rotM, translation_vector))\n",
    "projMatrix = np.vstack((projMatrix, np.array([0,0,0,1])))\n",
    "camera_pose = np.linalg.inv(projMatrix)\n",
    "print(\"Camera Pose:\\n {0}\".format(camera_pose))\n",
    "\n",
    "#homogenous_camera_matrix = np.vstack((camera_matrix, np.array([0,0,0], dtype=np.float32)))\n",
    "homogenous_camera_matrix = np.hstack((camera_matrix, np.array([[0],[0],[0]], dtype=np.float32)))\n",
    "world2image = np.dot(homogenous_camera_matrix, projMatrix)\n",
    "worldPoints2= np.hstack((worldPoints, np.array([[1],[1],[1],[1]], dtype=np.float32)))\n",
    "imagePoints2 = world2image @ worldPoints2.T\n",
    "for x, y, z in imagePoints2.T:\n",
    "    x = x / z\n",
    "    y = y / z\n",
    "    print(x, y)\n",
    "print(\"Original Image Points:\\n {0}\".format(imagePoints))"
   ]
  }
 ],
 "metadata": {
  "kernelspec": {
   "display_name": "venv",
   "language": "python",
   "name": "python3"
  },
  "language_info": {
   "codemirror_mode": {
    "name": "ipython",
    "version": 3
   },
   "file_extension": ".py",
   "mimetype": "text/x-python",
   "name": "python",
   "nbconvert_exporter": "python",
   "pygments_lexer": "ipython3",
   "version": "3.11.2"
  }
 },
 "nbformat": 4,
 "nbformat_minor": 2
}
